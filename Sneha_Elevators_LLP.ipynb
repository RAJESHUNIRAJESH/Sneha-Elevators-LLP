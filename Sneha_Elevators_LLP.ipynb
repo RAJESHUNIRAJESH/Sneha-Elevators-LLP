{
  "nbformat": 4,
  "nbformat_minor": 0,
  "metadata": {
    "colab": {
      "provenance": []
    },
    "kernelspec": {
      "name": "python3",
      "display_name": "Python 3"
    },
    "language_info": {
      "name": "python"
    }
  },
  "cells": [
    {
      "cell_type": "code",
      "execution_count": null,
      "metadata": {
        "colab": {
          "base_uri": "https://localhost:8080/"
        },
        "id": "rBz3X2TUFbl9",
        "outputId": "b01efb12-8d36-42c5-fbdd-e20663e4f93b"
      },
      "outputs": [
        {
          "output_type": "stream",
          "name": "stdout",
          "text": [
            "Enter series RM,VL,SL : RM\n",
            "Enter Shaft width : 1500\n",
            "Enter Shaft depth : 1600\n",
            "Enter w or wo or oo : w\n",
            "Enter sc or bc : bc\n",
            "Enter t or c : c\n",
            "Cabin Width : 1120\n",
            "Cabin Depth : 1060\n"
          ]
        }
      ],
      "source": [
        "series = str(input(\"Enter series RM,VL,SL : \"))\n",
        "width = int(input(\"Enter Shaft width : \"))\n",
        "depth = int(input(\"Enter Shaft depth : \"))\n",
        "plastering = str(input(\"Enter w or wo or oo : \"))\n",
        "counter = str(input(\"Enter sc or bc : \"))\n",
        "opening = str(input(\"Enter t or c : \"))                # for SL series only t (telescopic)\n",
        "\n",
        "if plastering == 'wo':\n",
        "  width -= 60\n",
        "  depth -= 50\n",
        "elif plastering == 'oo':\n",
        "  width -= 100\n",
        "  depth -= 100\n",
        "\n",
        "if series == 'RM':\n",
        "  if counter == 'sc':\n",
        "    if opening == 't':\n",
        "      width -= 580\n",
        "      depth -= 400\n",
        "    else:\n",
        "      width -= 580\n",
        "      depth -= 340\n",
        "  else:\n",
        "    if opening == 't':\n",
        "      width -= 380\n",
        "      depth -= 600\n",
        "    else:\n",
        "      width -= 380\n",
        "      depth -= 540\n",
        "\n",
        "elif series == 'VL':\n",
        "  if counter == 'sc':\n",
        "    if opening == 't':\n",
        "      width -= 580\n",
        "      depth -= 400\n",
        "    else:\n",
        "      width -= 580\n",
        "      depth -= 340\n",
        "  else:\n",
        "    if opening == 't':\n",
        "      width -= 380\n",
        "      depth -= 600\n",
        "    else:\n",
        "      width -= 380\n",
        "      depth -= 540\n",
        "\n",
        "elif series == 'SL':\n",
        "  if counter == 'sc':\n",
        "    width -= 570\n",
        "    depth -= 410\n",
        "  else:\n",
        "    width -= 220\n",
        "    depth -= 760\n",
        "\n",
        "print(\"Cabin Width :\",width)\n",
        "print(\"Cabin Depth :\",depth)"
      ]
    },
    {
      "cell_type": "code",
      "source": [
        "w = int(input(\"Enter width : \"))\n",
        "d = int(input(\"Enter depth : \"))\n",
        "\n",
        "p = (w+d)/0.181\n",
        "\n",
        "print(\"Passengers : \",p)"
      ],
      "metadata": {
        "colab": {
          "base_uri": "https://localhost:8080/"
        },
        "id": "JloXyFg6WLX5",
        "outputId": "a7a3c995-fbe5-42f8-876f-23e8a44281e9"
      },
      "execution_count": null,
      "outputs": [
        {
          "output_type": "stream",
          "name": "stdout",
          "text": [
            "Enter width : 900\n",
            "Enter depth : 1250\n",
            "Passengers :  11878.453038674033\n"
          ]
        }
      ]
    },
    {
      "cell_type": "markdown",
      "source": [
        "Enter series RM,VL,SL : RM\n",
        "Enter Shaft width : 1500\n",
        "Enter Shaft depth : 1500\n",
        "Enter w or wo or oo : w\n",
        "Enter sc or bc : sc\n",
        "Enter t or c : t\n",
        "Cabin Width : 920\n",
        "Cabin Depth : 1100\n",
        "\n",
        "Enter series RM,VL,SL : RM\n",
        "Enter Shaft width : 1500\n",
        "Enter Shaft depth : 1500\n",
        "Enter w or wo or oo : wo\n",
        "Enter sc or bc : sc\n",
        "Enter t or c : t\n",
        "Cabin Width : 860\n",
        "Cabin Depth : 1050\n",
        "\n",
        "Enter series RM,VL,SL : RM\n",
        "Enter Shaft width : 1500\n",
        "Enter Shaft depth : 1500\n",
        "Enter w or wo or oo : oo\n",
        "Enter sc or bc : sc\n",
        "Enter t or c : t\n",
        "Cabin Width : 820\n",
        "Cabin Depth : 1000\n",
        "\n"
      ],
      "metadata": {
        "id": "DGy0oLaILDXO"
      }
    }
  ]
}